{
 "cells": [
  {
   "cell_type": "markdown",
   "id": "a08b9e31",
   "metadata": {},
   "source": [
    "# \"NLP Transformers model\"\n",
    "\n",
    "> \"Basic NLP model using huggingface's Transformers\"\n",
    "\n",
    "- toc: true\n",
    "- branch: master\n",
    "- comments : False\n",
    "- author : Eric Vincent\n",
    "- categories : [fastpages, jupyter]"
   ]
  },
  {
   "cell_type": "markdown",
   "id": "54153528",
   "metadata": {},
   "source": [
    "# This notebook runs through Paperspace's GPU."
   ]
  },
  {
   "cell_type": "code",
   "execution_count": 1,
   "id": "339584a5-9905-4593-a273-a8048417b827",
   "metadata": {
    "execution": {
     "iopub.execute_input": "2022-09-26T02:12:02.368864Z",
     "iopub.status.busy": "2022-09-26T02:12:02.368488Z",
     "iopub.status.idle": "2022-09-26T02:12:02.378972Z",
     "shell.execute_reply": "2022-09-26T02:12:02.378003Z",
     "shell.execute_reply.started": "2022-09-26T02:12:02.368792Z"
    }
   },
   "outputs": [],
   "source": [
    "#hide\n",
    "import os\n",
    "iskaggle = os.environ.get('KAGGLE_KERNEL_RUN_TYPE', '')"
   ]
  },
  {
   "cell_type": "code",
   "execution_count": 2,
   "id": "8305af32-59fb-4ef6-af6a-8a19855080b4",
   "metadata": {
    "execution": {
     "iopub.execute_input": "2022-09-26T02:12:14.522827Z",
     "iopub.status.busy": "2022-09-26T02:12:14.521917Z",
     "iopub.status.idle": "2022-09-26T02:12:19.005330Z",
     "shell.execute_reply": "2022-09-26T02:12:19.004364Z",
     "shell.execute_reply.started": "2022-09-26T02:12:14.522785Z"
    }
   },
   "outputs": [
    {
     "name": "stdout",
     "output_type": "stream",
     "text": [
      "Collecting kaggle\n",
      "  Downloading kaggle-1.5.12.tar.gz (58 kB)\n",
      "\u001b[2K     \u001b[90m━━━━━━━━━━━━━━━━━━━━━━━━━━━━━━━━━━━━━━━━\u001b[0m \u001b[32m59.0/59.0 kB\u001b[0m \u001b[31m13.0 MB/s\u001b[0m eta \u001b[36m0:00:00\u001b[0m\n",
      "\u001b[?25h  Preparing metadata (setup.py) ... \u001b[?25ldone\n",
      "\u001b[?25hRequirement already satisfied: six>=1.10 in /usr/lib/python3/dist-packages (from kaggle) (1.14.0)\n",
      "Requirement already satisfied: certifi in /usr/lib/python3/dist-packages (from kaggle) (2019.11.28)\n",
      "Requirement already satisfied: python-dateutil in /usr/local/lib/python3.9/dist-packages (from kaggle) (2.8.2)\n",
      "Requirement already satisfied: requests in /usr/local/lib/python3.9/dist-packages (from kaggle) (2.28.1)\n",
      "Requirement already satisfied: tqdm in /usr/local/lib/python3.9/dist-packages (from kaggle) (4.64.0)\n",
      "Requirement already satisfied: python-slugify in /usr/lib/python3/dist-packages (from kaggle) (4.0.0)\n",
      "Requirement already satisfied: urllib3 in /usr/local/lib/python3.9/dist-packages (from kaggle) (1.26.10)\n",
      "Requirement already satisfied: idna<4,>=2.5 in /usr/lib/python3/dist-packages (from requests->kaggle) (2.8)\n",
      "Requirement already satisfied: charset-normalizer<3,>=2 in /usr/local/lib/python3.9/dist-packages (from requests->kaggle) (2.1.0)\n",
      "Building wheels for collected packages: kaggle\n",
      "  Building wheel for kaggle (setup.py) ... \u001b[?25ldone\n",
      "\u001b[?25h  Created wheel for kaggle: filename=kaggle-1.5.12-py3-none-any.whl size=73031 sha256=ed5e01cf7bae3af90f8673ad3f99441f804ac6b06118afa8a1a140d171040260\n",
      "  Stored in directory: /root/.cache/pip/wheels/ac/b2/c3/fa4706d469b5879105991d1c8be9a3c2ef329ba9fe2ce5085e\n",
      "Successfully built kaggle\n",
      "Installing collected packages: kaggle\n",
      "Successfully installed kaggle-1.5.12\n",
      "\u001b[33mWARNING: Running pip as the 'root' user can result in broken permissions and conflicting behaviour with the system package manager. It is recommended to use a virtual environment instead: https://pip.pypa.io/warnings/venv\u001b[0m\u001b[33m\n",
      "\u001b[0m"
     ]
    }
   ],
   "source": [
    "#hide\n",
    "! pip install kaggle\n"
   ]
  },
  {
   "cell_type": "code",
   "execution_count": 3,
   "id": "fafdaafb-089b-44b4-b612-09ba794a1c4d",
   "metadata": {
    "execution": {
     "iopub.execute_input": "2022-09-26T02:13:51.679948Z",
     "iopub.status.busy": "2022-09-26T02:13:51.679276Z",
     "iopub.status.idle": "2022-09-26T02:13:51.683540Z",
     "shell.execute_reply": "2022-09-26T02:13:51.682825Z",
     "shell.execute_reply.started": "2022-09-26T02:13:51.679918Z"
    }
   },
   "outputs": [],
   "source": [
    "#hide\n",
    "creds = '{\"username\":\"ericvincent18\",\"key\":\"e4acd0ae64ec375a76a571db9511fc28\"}'"
   ]
  },
  {
   "cell_type": "code",
   "execution_count": 4,
   "id": "b3f319cc-fbe7-4241-aa88-b45dee256708",
   "metadata": {
    "execution": {
     "iopub.execute_input": "2022-09-26T02:14:18.286709Z",
     "iopub.status.busy": "2022-09-26T02:14:18.286333Z",
     "iopub.status.idle": "2022-09-26T02:14:18.293125Z",
     "shell.execute_reply": "2022-09-26T02:14:18.291623Z",
     "shell.execute_reply.started": "2022-09-26T02:14:18.286682Z"
    }
   },
   "outputs": [],
   "source": [
    "# for working with paths in Python, I recommend using `pathlib.Path`\n",
    "from pathlib import Path\n",
    "\n",
    "cred_path = Path('~/.kaggle/kaggle.json').expanduser()\n",
    "if not cred_path.exists():\n",
    "    cred_path.parent.mkdir(exist_ok=True)\n",
    "    cred_path.write_text(creds)\n",
    "    cred_path.chmod(0o600)"
   ]
  },
  {
   "cell_type": "code",
   "execution_count": 5,
   "id": "aef75700-9d5d-492d-bfb8-1388cfac5c4d",
   "metadata": {
    "execution": {
     "iopub.execute_input": "2022-09-26T02:14:29.907562Z",
     "iopub.status.busy": "2022-09-26T02:14:29.906611Z",
     "iopub.status.idle": "2022-09-26T02:14:29.911980Z",
     "shell.execute_reply": "2022-09-26T02:14:29.910811Z",
     "shell.execute_reply.started": "2022-09-26T02:14:29.907526Z"
    }
   },
   "outputs": [],
   "source": [
    "path = Path('us-patent-phrase-to-phrase-matching')"
   ]
  },
  {
   "cell_type": "code",
   "execution_count": 7,
   "id": "59444b60-f8a2-4e94-9f57-33fead71d1cb",
   "metadata": {
    "execution": {
     "iopub.execute_input": "2022-09-26T02:17:32.636207Z",
     "iopub.status.busy": "2022-09-26T02:17:32.635863Z",
     "iopub.status.idle": "2022-09-26T02:17:33.401485Z",
     "shell.execute_reply": "2022-09-26T02:17:33.400551Z",
     "shell.execute_reply.started": "2022-09-26T02:17:32.636182Z"
    }
   },
   "outputs": [
    {
     "name": "stdout",
     "output_type": "stream",
     "text": [
      "Downloading us-patent-phrase-to-phrase-matching.zip to /notebooks\n"
     ]
    },
    {
     "name": "stderr",
     "output_type": "stream",
     "text": [
      "100%|██████████| 682k/682k [00:00<00:00, 27.8MB/s]"
     ]
    },
    {
     "name": "stdout",
     "output_type": "stream",
     "text": [
      "\n"
     ]
    },
    {
     "name": "stderr",
     "output_type": "stream",
     "text": [
      "\n"
     ]
    }
   ],
   "source": [
    "if not iskaggle and not path.exists():\n",
    "    import zipfile,kaggle\n",
    "    kaggle.api.competition_download_cli(str(path))\n",
    "    zipfile.ZipFile(f'{path}.zip').extractall(path)"
   ]
  },
  {
   "cell_type": "code",
   "execution_count": 8,
   "id": "50f0ef24-5eff-4f0f-b9de-7dd73edd367c",
   "metadata": {
    "execution": {
     "iopub.execute_input": "2022-09-26T02:18:59.198423Z",
     "iopub.status.busy": "2022-09-26T02:18:59.198059Z",
     "iopub.status.idle": "2022-09-26T02:18:59.646289Z",
     "shell.execute_reply": "2022-09-26T02:18:59.645134Z",
     "shell.execute_reply.started": "2022-09-26T02:18:59.198396Z"
    }
   },
   "outputs": [
    {
     "name": "stdout",
     "output_type": "stream",
     "text": [
      "sample_submission.csv  test.csv  train.csv\n"
     ]
    }
   ],
   "source": [
    "!ls {path}"
   ]
  },
  {
   "cell_type": "code",
   "execution_count": 9,
   "id": "1dce463e-edb1-4676-a2c2-965045d8269b",
   "metadata": {
    "execution": {
     "iopub.execute_input": "2022-09-26T02:19:39.615868Z",
     "iopub.status.busy": "2022-09-26T02:19:39.615487Z",
     "iopub.status.idle": "2022-09-26T02:19:40.235320Z",
     "shell.execute_reply": "2022-09-26T02:19:40.234292Z",
     "shell.execute_reply.started": "2022-09-26T02:19:39.615839Z"
    }
   },
   "outputs": [],
   "source": [
    "import pandas as pd\n",
    "df = pd.read_csv(path/'train.csv')\n",
    "df['input'] = 'TEXT1: ' + df.context + '; TEXT2: ' + df.target + '; ANC1: ' + df.anchor\n"
   ]
  },
  {
   "cell_type": "code",
   "execution_count": 10,
   "id": "0c5a6861-e8ff-44fa-892a-18f98c1db479",
   "metadata": {
    "execution": {
     "iopub.execute_input": "2022-09-26T02:19:57.308419Z",
     "iopub.status.busy": "2022-09-26T02:19:57.307496Z",
     "iopub.status.idle": "2022-09-26T02:19:57.321071Z",
     "shell.execute_reply": "2022-09-26T02:19:57.320261Z",
     "shell.execute_reply.started": "2022-09-26T02:19:57.308382Z"
    }
   },
   "outputs": [
    {
     "data": {
      "text/plain": [
       "0    TEXT1: A47; TEXT2: abatement of pollution; ANC...\n",
       "1    TEXT1: A47; TEXT2: act of abating; ANC1: abate...\n",
       "2    TEXT1: A47; TEXT2: active catalyst; ANC1: abat...\n",
       "3    TEXT1: A47; TEXT2: eliminating process; ANC1: ...\n",
       "4    TEXT1: A47; TEXT2: forest region; ANC1: abatement\n",
       "Name: input, dtype: object"
      ]
     },
     "execution_count": 10,
     "metadata": {},
     "output_type": "execute_result"
    }
   ],
   "source": [
    "df.input.head()"
   ]
  },
  {
   "cell_type": "code",
   "execution_count": 11,
   "id": "c68f56c1-bca5-401c-966b-400d4c7f11f0",
   "metadata": {
    "execution": {
     "iopub.execute_input": "2022-09-26T02:20:12.959352Z",
     "iopub.status.busy": "2022-09-26T02:20:12.958502Z",
     "iopub.status.idle": "2022-09-26T02:20:13.358929Z",
     "shell.execute_reply": "2022-09-26T02:20:13.357984Z",
     "shell.execute_reply.started": "2022-09-26T02:20:12.959323Z"
    }
   },
   "outputs": [],
   "source": [
    "from datasets import Dataset,DatasetDict\n",
    "\n",
    "ds = Dataset.from_pandas(df)"
   ]
  },
  {
   "cell_type": "code",
   "execution_count": 12,
   "id": "de03bfb2-c5b0-436d-9516-de3a12715151",
   "metadata": {
    "execution": {
     "iopub.execute_input": "2022-09-26T02:20:16.346334Z",
     "iopub.status.busy": "2022-09-26T02:20:16.345753Z",
     "iopub.status.idle": "2022-09-26T02:20:16.351984Z",
     "shell.execute_reply": "2022-09-26T02:20:16.351096Z",
     "shell.execute_reply.started": "2022-09-26T02:20:16.346301Z"
    }
   },
   "outputs": [
    {
     "data": {
      "text/plain": [
       "Dataset({\n",
       "    features: ['id', 'anchor', 'target', 'context', 'score', 'input'],\n",
       "    num_rows: 36473\n",
       "})"
      ]
     },
     "execution_count": 12,
     "metadata": {},
     "output_type": "execute_result"
    }
   ],
   "source": [
    "ds"
   ]
  },
  {
   "cell_type": "code",
   "execution_count": 13,
   "id": "b38a49ef-3816-4974-bc0f-da1bdda2ba07",
   "metadata": {
    "execution": {
     "iopub.execute_input": "2022-09-26T02:21:27.351044Z",
     "iopub.status.busy": "2022-09-26T02:21:27.350691Z",
     "iopub.status.idle": "2022-09-26T02:21:29.802227Z",
     "shell.execute_reply": "2022-09-26T02:21:29.801101Z",
     "shell.execute_reply.started": "2022-09-26T02:21:27.351019Z"
    }
   },
   "outputs": [
    {
     "data": {
      "application/vnd.jupyter.widget-view+json": {
       "model_id": "be325f0248ff486e8463f498b5b43660",
       "version_major": 2,
       "version_minor": 0
      },
      "text/plain": [
       "Downloading:   0%|          | 0.00/52.0 [00:00<?, ?B/s]"
      ]
     },
     "metadata": {},
     "output_type": "display_data"
    },
    {
     "data": {
      "application/vnd.jupyter.widget-view+json": {
       "model_id": "3602026c32c34cf19d6027791307ce44",
       "version_major": 2,
       "version_minor": 0
      },
      "text/plain": [
       "Downloading:   0%|          | 0.00/578 [00:00<?, ?B/s]"
      ]
     },
     "metadata": {},
     "output_type": "display_data"
    },
    {
     "data": {
      "application/vnd.jupyter.widget-view+json": {
       "model_id": "24cb871d12944770ae2226fd2407954e",
       "version_major": 2,
       "version_minor": 0
      },
      "text/plain": [
       "Downloading:   0%|          | 0.00/2.35M [00:00<?, ?B/s]"
      ]
     },
     "metadata": {},
     "output_type": "display_data"
    },
    {
     "name": "stderr",
     "output_type": "stream",
     "text": [
      "Special tokens have been added in the vocabulary, make sure the associated word embeddings are fine-tuned or trained.\n",
      "/usr/local/lib/python3.9/dist-packages/transformers/convert_slow_tokenizer.py:434: UserWarning: The sentencepiece tokenizer that you are converting to a fast tokenizer uses the byte fallback option which is not implemented in the fast tokenizers. In practice this means that the fast version of the tokenizer can produce unknown tokens whereas the sentencepiece version would have converted these unknown tokens into a sequence of byte tokens matching the original piece of text.\n",
      "  warnings.warn(\n",
      "Special tokens have been added in the vocabulary, make sure the associated word embeddings are fine-tuned or trained.\n"
     ]
    }
   ],
   "source": [
    "model_nm = 'microsoft/deberta-v3-small'\n",
    "from transformers import AutoModelForSequenceClassification,AutoTokenizer\n",
    "tokz = AutoTokenizer.from_pretrained(model_nm)"
   ]
  },
  {
   "cell_type": "code",
   "execution_count": 14,
   "id": "b4ed3acb-7abb-497c-b58d-aaa8b6cf64d2",
   "metadata": {
    "execution": {
     "iopub.execute_input": "2022-09-26T02:22:54.760928Z",
     "iopub.status.busy": "2022-09-26T02:22:54.759630Z",
     "iopub.status.idle": "2022-09-26T02:22:54.772229Z",
     "shell.execute_reply": "2022-09-26T02:22:54.771350Z",
     "shell.execute_reply.started": "2022-09-26T02:22:54.760899Z"
    }
   },
   "outputs": [
    {
     "data": {
      "text/plain": [
       "['▁Testing',\n",
       " '▁out',\n",
       " '▁some',\n",
       " '▁lil',\n",
       " \"'\",\n",
       " '▁odd',\n",
       " '▁words',\n",
       " '▁such',\n",
       " '▁as',\n",
       " '▁see',\n",
       " '▁ya',\n",
       " '▁later',\n",
       " ',',\n",
       " '▁hadn',\n",
       " \"'\",\n",
       " 't',\n",
       " '▁seen',\n",
       " '▁him',\n",
       " ',',\n",
       " '▁Capital',\n",
       " 'ize',\n",
       " ',',\n",
       " '▁Ch',\n",
       " 'A',\n",
       " 'nge',\n",
       " 'It',\n",
       " 'Up']"
      ]
     },
     "execution_count": 14,
     "metadata": {},
     "output_type": "execute_result"
    }
   ],
   "source": [
    "tokz.tokenize(\"Testing out some lil' odd words such as see ya later, hadn't seen him, Capitalize, ChAngeItUp\")"
   ]
  },
  {
   "cell_type": "code",
   "execution_count": 15,
   "id": "1a7a64b2-1931-4d8e-9fc4-3ada38b1261d",
   "metadata": {
    "execution": {
     "iopub.execute_input": "2022-09-26T02:24:48.385191Z",
     "iopub.status.busy": "2022-09-26T02:24:48.384823Z",
     "iopub.status.idle": "2022-09-26T02:24:50.107347Z",
     "shell.execute_reply": "2022-09-26T02:24:50.106224Z",
     "shell.execute_reply.started": "2022-09-26T02:24:48.385165Z"
    }
   },
   "outputs": [
    {
     "name": "stderr",
     "output_type": "stream",
     "text": [
      "Parameter 'function'=<function tok_func at 0x7f84b0ecd820> of the transform datasets.arrow_dataset.Dataset._map_single couldn't be hashed properly, a random hash was used instead. Make sure your transforms and parameters are serializable with pickle or dill for the dataset fingerprinting and caching to work. If you reuse this transform, the caching mechanism will consider it to be different from the previous calls and recompute everything. This warning is only showed once. Subsequent hashing failures won't be showed.\n"
     ]
    },
    {
     "data": {
      "application/vnd.jupyter.widget-view+json": {
       "model_id": "b5a7ffb3780e444087171903107f397a",
       "version_major": 2,
       "version_minor": 0
      },
      "text/plain": [
       "  0%|          | 0/37 [00:00<?, ?ba/s]"
      ]
     },
     "metadata": {},
     "output_type": "display_data"
    }
   ],
   "source": [
    "def tok_func(x): return tokz(x[\"input\"])\n",
    "tok_ds = ds.map(tok_func, batched=True)"
   ]
  },
  {
   "cell_type": "code",
   "execution_count": 16,
   "id": "c1ac6a43-9166-4264-b730-97d012da459d",
   "metadata": {
    "execution": {
     "iopub.execute_input": "2022-09-26T02:26:17.328092Z",
     "iopub.status.busy": "2022-09-26T02:26:17.327695Z",
     "iopub.status.idle": "2022-09-26T02:26:17.336437Z",
     "shell.execute_reply": "2022-09-26T02:26:17.335389Z",
     "shell.execute_reply.started": "2022-09-26T02:26:17.328065Z"
    }
   },
   "outputs": [
    {
     "data": {
      "text/plain": [
       "('TEXT1: A47; TEXT2: abatement of pollution; ANC1: abatement',\n",
       " [1,\n",
       "  54453,\n",
       "  435,\n",
       "  294,\n",
       "  336,\n",
       "  5753,\n",
       "  346,\n",
       "  54453,\n",
       "  445,\n",
       "  294,\n",
       "  47284,\n",
       "  265,\n",
       "  6435,\n",
       "  346,\n",
       "  23702,\n",
       "  435,\n",
       "  294,\n",
       "  47284,\n",
       "  2])"
      ]
     },
     "execution_count": 16,
     "metadata": {},
     "output_type": "execute_result"
    }
   ],
   "source": [
    "# input ids for the first row of data\n",
    "row = tok_ds[0]\n",
    "row['input'], row['input_ids']"
   ]
  },
  {
   "cell_type": "code",
   "execution_count": 17,
   "id": "38d7fc9b-c1be-4911-bec8-43a5adf6da07",
   "metadata": {
    "execution": {
     "iopub.execute_input": "2022-09-26T02:26:39.567251Z",
     "iopub.status.busy": "2022-09-26T02:26:39.566483Z",
     "iopub.status.idle": "2022-09-26T02:26:39.573094Z",
     "shell.execute_reply": "2022-09-26T02:26:39.572437Z",
     "shell.execute_reply.started": "2022-09-26T02:26:39.567224Z"
    }
   },
   "outputs": [],
   "source": [
    "tok_ds = tok_ds.rename_columns({'score':'labels'})"
   ]
  },
  {
   "cell_type": "code",
   "execution_count": 18,
   "id": "04afe80b-4303-4fa0-915b-5c6f3e698c67",
   "metadata": {
    "execution": {
     "iopub.execute_input": "2022-09-26T02:30:43.147070Z",
     "iopub.status.busy": "2022-09-26T02:30:43.146523Z",
     "iopub.status.idle": "2022-09-26T02:30:44.656344Z",
     "shell.execute_reply": "2022-09-26T02:30:44.654985Z",
     "shell.execute_reply.started": "2022-09-26T02:30:43.147042Z"
    }
   },
   "outputs": [
    {
     "name": "stdout",
     "output_type": "stream",
     "text": [
      "huggingface/tokenizers: The current process just got forked, after parallelism has already been used. Disabling parallelism to avoid deadlocks...\n",
      "To disable this warning, you can either:\n",
      "\t- Avoid using `tokenizers` before the fork if possible\n",
      "\t- Explicitly set the environment variable TOKENIZERS_PARALLELISM=(true | false)\n",
      "huggingface/tokenizers: The current process just got forked, after parallelism has already been used. Disabling parallelism to avoid deadlocks...\n",
      "To disable this warning, you can either:\n",
      "\t- Avoid using `tokenizers` before the fork if possible\n",
      "\t- Explicitly set the environment variable TOKENIZERS_PARALLELISM=(true | false)\n"
     ]
    },
    {
     "data": {
      "text/plain": [
       "DatasetDict({\n",
       "    train: Dataset({\n",
       "        features: ['id', 'anchor', 'target', 'context', 'labels', 'input', 'input_ids', 'token_type_ids', 'attention_mask'],\n",
       "        num_rows: 27354\n",
       "    })\n",
       "    test: Dataset({\n",
       "        features: ['id', 'anchor', 'target', 'context', 'labels', 'input', 'input_ids', 'token_type_ids', 'attention_mask'],\n",
       "        num_rows: 9119\n",
       "    })\n",
       "})"
      ]
     },
     "execution_count": 18,
     "metadata": {},
     "output_type": "execute_result"
    }
   ],
   "source": [
    "# Create validation dataset\n",
    "eval_df = pd.read_csv(path/'test.csv')\n",
    "\n",
    "import numpy as np, matplotlib.pyplot as plt\n",
    "from sklearn.linear_model import LinearRegression\n",
    "from sklearn.preprocessing import PolynomialFeatures\n",
    "from sklearn.pipeline import make_pipeline\n",
    "\n",
    "dds = tok_ds.train_test_split(0.25, seed=42)\n",
    "dds"
   ]
  },
  {
   "cell_type": "code",
   "execution_count": 19,
   "id": "a8b1da06-f4ee-478e-b8ac-a9144c92c310",
   "metadata": {
    "execution": {
     "iopub.execute_input": "2022-09-26T02:32:07.824545Z",
     "iopub.status.busy": "2022-09-26T02:32:07.823498Z",
     "iopub.status.idle": "2022-09-26T02:32:07.869922Z",
     "shell.execute_reply": "2022-09-26T02:32:07.869181Z",
     "shell.execute_reply.started": "2022-09-26T02:32:07.824503Z"
    }
   },
   "outputs": [
    {
     "data": {
      "application/vnd.jupyter.widget-view+json": {
       "model_id": "e4a3e853396b41628b266051f0fe7780",
       "version_major": 2,
       "version_minor": 0
      },
      "text/plain": [
       "  0%|          | 0/1 [00:00<?, ?ba/s]"
      ]
     },
     "metadata": {},
     "output_type": "display_data"
    }
   ],
   "source": [
    "# create the input column for the validation set\n",
    "eval_df['input'] = 'TEXT1: ' + eval_df.context + '; TEXT2: ' + eval_df.target + '; ANC1: ' + eval_df.anchor\n",
    "eval_ds = Dataset.from_pandas(eval_df).map(tok_func, batched=True)"
   ]
  },
  {
   "cell_type": "code",
   "execution_count": 20,
   "id": "68f01438-221d-4ca1-bc29-c3ae4f7ea648",
   "metadata": {
    "execution": {
     "iopub.execute_input": "2022-09-26T02:34:01.007610Z",
     "iopub.status.busy": "2022-09-26T02:34:01.007251Z",
     "iopub.status.idle": "2022-09-26T02:34:01.012428Z",
     "shell.execute_reply": "2022-09-26T02:34:01.011341Z",
     "shell.execute_reply.started": "2022-09-26T02:34:01.007583Z"
    }
   },
   "outputs": [],
   "source": [
    "# using numpy for correlation (Persons)\n",
    "def corr(x,y): return np.corrcoef(x,y)[0][1]"
   ]
  },
  {
   "cell_type": "code",
   "execution_count": 21,
   "id": "fb2dd106-fb1e-4414-b11e-1f48acfa2b55",
   "metadata": {
    "execution": {
     "iopub.execute_input": "2022-09-26T02:34:43.196778Z",
     "iopub.status.busy": "2022-09-26T02:34:43.195884Z",
     "iopub.status.idle": "2022-09-26T02:34:43.202374Z",
     "shell.execute_reply": "2022-09-26T02:34:43.201401Z",
     "shell.execute_reply.started": "2022-09-26T02:34:43.196711Z"
    }
   },
   "outputs": [],
   "source": [
    "# Plot function to visualize correlations\n",
    "def show_corr(df, a, b):\n",
    "    x,y = df[a],df[b]\n",
    "    plt.scatter(x,y, alpha=0.5, s=4)\n",
    "    plt.title(f'{a} vs {b}; r: {corr(x, y):.2f}')"
   ]
  },
  {
   "cell_type": "code",
   "execution_count": 22,
   "id": "23462f06-6c7b-4bf6-8f24-f5150a3b46cc",
   "metadata": {
    "execution": {
     "iopub.execute_input": "2022-09-26T02:35:07.138079Z",
     "iopub.status.busy": "2022-09-26T02:35:07.137316Z",
     "iopub.status.idle": "2022-09-26T02:35:10.377493Z",
     "shell.execute_reply": "2022-09-26T02:35:10.376497Z",
     "shell.execute_reply.started": "2022-09-26T02:35:07.138051Z"
    }
   },
   "outputs": [],
   "source": [
    "from transformers import TrainingArguments,Trainer\n",
    "bs = 128\n",
    "epochs = 4"
   ]
  },
  {
   "cell_type": "code",
   "execution_count": 23,
   "id": "96a5a604-20b8-4e09-aa75-4799692e61d8",
   "metadata": {
    "execution": {
     "iopub.execute_input": "2022-09-26T02:35:22.875962Z",
     "iopub.status.busy": "2022-09-26T02:35:22.874559Z",
     "iopub.status.idle": "2022-09-26T02:35:22.883345Z",
     "shell.execute_reply": "2022-09-26T02:35:22.882147Z",
     "shell.execute_reply.started": "2022-09-26T02:35:22.875932Z"
    }
   },
   "outputs": [],
   "source": [
    "lr = 8e-5"
   ]
  },
  {
   "cell_type": "code",
   "execution_count": 24,
   "id": "7df390a0-0c5f-4ef7-b2f5-a304a0527f26",
   "metadata": {
    "execution": {
     "iopub.execute_input": "2022-09-26T02:35:30.709973Z",
     "iopub.status.busy": "2022-09-26T02:35:30.709369Z",
     "iopub.status.idle": "2022-09-26T02:35:30.717055Z",
     "shell.execute_reply": "2022-09-26T02:35:30.716307Z",
     "shell.execute_reply.started": "2022-09-26T02:35:30.709946Z"
    }
   },
   "outputs": [],
   "source": [
    "args = TrainingArguments('outputs', learning_rate=lr, warmup_ratio=0.1, lr_scheduler_type='cosine', fp16=True,\n",
    "    evaluation_strategy=\"epoch\", per_device_train_batch_size=bs, per_device_eval_batch_size=bs*2,\n",
    "    num_train_epochs=epochs, weight_decay=0.01, report_to='none')"
   ]
  },
  {
   "cell_type": "code",
   "execution_count": 26,
   "id": "711fa694-0b2c-4b62-aa4d-677943401306",
   "metadata": {
    "execution": {
     "iopub.execute_input": "2022-09-26T02:36:19.912672Z",
     "iopub.status.busy": "2022-09-26T02:36:19.912276Z",
     "iopub.status.idle": "2022-09-26T02:36:19.917857Z",
     "shell.execute_reply": "2022-09-26T02:36:19.916334Z",
     "shell.execute_reply.started": "2022-09-26T02:36:19.912642Z"
    }
   },
   "outputs": [],
   "source": [
    "def corr_d(eval_pred): return {'pearson': corr(*eval_pred)}"
   ]
  },
  {
   "cell_type": "code",
   "execution_count": 27,
   "id": "08dd7aa3-38d9-460f-bb63-4fceb07c7b8c",
   "metadata": {
    "execution": {
     "iopub.execute_input": "2022-09-26T02:36:29.867707Z",
     "iopub.status.busy": "2022-09-26T02:36:29.867354Z",
     "iopub.status.idle": "2022-09-26T02:36:34.212921Z",
     "shell.execute_reply": "2022-09-26T02:36:34.211816Z",
     "shell.execute_reply.started": "2022-09-26T02:36:29.867682Z"
    }
   },
   "outputs": [
    {
     "name": "stderr",
     "output_type": "stream",
     "text": [
      "Some weights of the model checkpoint at microsoft/deberta-v3-small were not used when initializing DebertaV2ForSequenceClassification: ['lm_predictions.lm_head.LayerNorm.weight', 'mask_predictions.classifier.weight', 'mask_predictions.LayerNorm.weight', 'mask_predictions.dense.bias', 'lm_predictions.lm_head.bias', 'mask_predictions.LayerNorm.bias', 'lm_predictions.lm_head.dense.weight', 'lm_predictions.lm_head.dense.bias', 'mask_predictions.dense.weight', 'mask_predictions.classifier.bias', 'lm_predictions.lm_head.LayerNorm.bias']\n",
      "- This IS expected if you are initializing DebertaV2ForSequenceClassification from the checkpoint of a model trained on another task or with another architecture (e.g. initializing a BertForSequenceClassification model from a BertForPreTraining model).\n",
      "- This IS NOT expected if you are initializing DebertaV2ForSequenceClassification from the checkpoint of a model that you expect to be exactly identical (initializing a BertForSequenceClassification model from a BertForSequenceClassification model).\n",
      "Some weights of DebertaV2ForSequenceClassification were not initialized from the model checkpoint at microsoft/deberta-v3-small and are newly initialized: ['pooler.dense.bias', 'pooler.dense.weight', 'classifier.weight', 'classifier.bias']\n",
      "You should probably TRAIN this model on a down-stream task to be able to use it for predictions and inference.\n",
      "Using cuda_amp half precision backend\n"
     ]
    }
   ],
   "source": [
    "model = AutoModelForSequenceClassification.from_pretrained(model_nm, num_labels=1)\n",
    "trainer = Trainer(model, args, train_dataset=dds['train'], eval_dataset=dds['test'],\n",
    "                  tokenizer=tokz, compute_metrics=corr_d)"
   ]
  },
  {
   "cell_type": "code",
   "execution_count": 28,
   "id": "d9e4982f-50a7-4d30-b1c2-945088bc3379",
   "metadata": {
    "execution": {
     "iopub.execute_input": "2022-09-26T02:37:11.666598Z",
     "iopub.status.busy": "2022-09-26T02:37:11.666252Z",
     "iopub.status.idle": "2022-09-26T02:52:31.806188Z",
     "shell.execute_reply": "2022-09-26T02:52:31.805237Z",
     "shell.execute_reply.started": "2022-09-26T02:37:11.666573Z"
    }
   },
   "outputs": [
    {
     "name": "stderr",
     "output_type": "stream",
     "text": [
      "The following columns in the training set don't have a corresponding argument in `DebertaV2ForSequenceClassification.forward` and have been ignored: anchor, input, id, target, context. If anchor, input, id, target, context are not expected by `DebertaV2ForSequenceClassification.forward`,  you can safely ignore this message.\n",
      "/usr/local/lib/python3.9/dist-packages/transformers/optimization.py:306: FutureWarning: This implementation of AdamW is deprecated and will be removed in a future version. Use the PyTorch implementation torch.optim.AdamW instead, or set `no_deprecation_warning=True` to disable this warning\n",
      "  warnings.warn(\n",
      "***** Running training *****\n",
      "  Num examples = 27354\n",
      "  Num Epochs = 4\n",
      "  Instantaneous batch size per device = 128\n",
      "  Total train batch size (w. parallel, distributed & accumulation) = 128\n",
      "  Gradient Accumulation steps = 1\n",
      "  Total optimization steps = 856\n"
     ]
    },
    {
     "data": {
      "text/html": [
       "\n",
       "    <div>\n",
       "      \n",
       "      <progress value='856' max='856' style='width:300px; height:20px; vertical-align: middle;'></progress>\n",
       "      [856/856 15:18, Epoch 4/4]\n",
       "    </div>\n",
       "    <table border=\"1\" class=\"dataframe\">\n",
       "  <thead>\n",
       " <tr style=\"text-align: left;\">\n",
       "      <th>Epoch</th>\n",
       "      <th>Training Loss</th>\n",
       "      <th>Validation Loss</th>\n",
       "      <th>Pearson</th>\n",
       "    </tr>\n",
       "  </thead>\n",
       "  <tbody>\n",
       "    <tr>\n",
       "      <td>1</td>\n",
       "      <td>No log</td>\n",
       "      <td>0.026263</td>\n",
       "      <td>0.798741</td>\n",
       "    </tr>\n",
       "    <tr>\n",
       "      <td>2</td>\n",
       "      <td>No log</td>\n",
       "      <td>0.025944</td>\n",
       "      <td>0.823264</td>\n",
       "    </tr>\n",
       "    <tr>\n",
       "      <td>3</td>\n",
       "      <td>0.034800</td>\n",
       "      <td>0.022987</td>\n",
       "      <td>0.833240</td>\n",
       "    </tr>\n",
       "    <tr>\n",
       "      <td>4</td>\n",
       "      <td>0.034800</td>\n",
       "      <td>0.021924</td>\n",
       "      <td>0.833892</td>\n",
       "    </tr>\n",
       "  </tbody>\n",
       "</table><p>"
      ],
      "text/plain": [
       "<IPython.core.display.HTML object>"
      ]
     },
     "metadata": {},
     "output_type": "display_data"
    },
    {
     "name": "stderr",
     "output_type": "stream",
     "text": [
      "The following columns in the evaluation set don't have a corresponding argument in `DebertaV2ForSequenceClassification.forward` and have been ignored: anchor, input, id, target, context. If anchor, input, id, target, context are not expected by `DebertaV2ForSequenceClassification.forward`,  you can safely ignore this message.\n",
      "***** Running Evaluation *****\n",
      "  Num examples = 9119\n",
      "  Batch size = 256\n",
      "The following columns in the evaluation set don't have a corresponding argument in `DebertaV2ForSequenceClassification.forward` and have been ignored: anchor, input, id, target, context. If anchor, input, id, target, context are not expected by `DebertaV2ForSequenceClassification.forward`,  you can safely ignore this message.\n",
      "***** Running Evaluation *****\n",
      "  Num examples = 9119\n",
      "  Batch size = 256\n",
      "Saving model checkpoint to outputs/checkpoint-500\n",
      "Configuration saved in outputs/checkpoint-500/config.json\n",
      "Model weights saved in outputs/checkpoint-500/pytorch_model.bin\n",
      "tokenizer config file saved in outputs/checkpoint-500/tokenizer_config.json\n",
      "Special tokens file saved in outputs/checkpoint-500/special_tokens_map.json\n",
      "The following columns in the evaluation set don't have a corresponding argument in `DebertaV2ForSequenceClassification.forward` and have been ignored: anchor, input, id, target, context. If anchor, input, id, target, context are not expected by `DebertaV2ForSequenceClassification.forward`,  you can safely ignore this message.\n",
      "***** Running Evaluation *****\n",
      "  Num examples = 9119\n",
      "  Batch size = 256\n",
      "The following columns in the evaluation set don't have a corresponding argument in `DebertaV2ForSequenceClassification.forward` and have been ignored: anchor, input, id, target, context. If anchor, input, id, target, context are not expected by `DebertaV2ForSequenceClassification.forward`,  you can safely ignore this message.\n",
      "***** Running Evaluation *****\n",
      "  Num examples = 9119\n",
      "  Batch size = 256\n",
      "\n",
      "\n",
      "Training completed. Do not forget to share your model on huggingface.co/models =)\n",
      "\n",
      "\n"
     ]
    }
   ],
   "source": [
    "trainer.train();"
   ]
  },
  {
   "cell_type": "code",
   "execution_count": 29,
   "id": "0a961065-f9ac-4c4b-8f2c-24bcbae0b6da",
   "metadata": {
    "execution": {
     "iopub.execute_input": "2022-09-26T02:52:45.308328Z",
     "iopub.status.busy": "2022-09-26T02:52:45.307963Z",
     "iopub.status.idle": "2022-09-26T02:52:45.431604Z",
     "shell.execute_reply": "2022-09-26T02:52:45.430367Z",
     "shell.execute_reply.started": "2022-09-26T02:52:45.308302Z"
    }
   },
   "outputs": [
    {
     "name": "stderr",
     "output_type": "stream",
     "text": [
      "The following columns in the test set don't have a corresponding argument in `DebertaV2ForSequenceClassification.forward` and have been ignored: anchor, id, input, target, context. If anchor, id, input, target, context are not expected by `DebertaV2ForSequenceClassification.forward`,  you can safely ignore this message.\n",
      "***** Running Prediction *****\n",
      "  Num examples = 36\n",
      "  Batch size = 256\n"
     ]
    },
    {
     "data": {
      "text/html": [
       "\n",
       "    <div>\n",
       "      \n",
       "      <progress value='1' max='1' style='width:300px; height:20px; vertical-align: middle;'></progress>\n",
       "      [1/1 : < :]\n",
       "    </div>\n",
       "    "
      ],
      "text/plain": [
       "<IPython.core.display.HTML object>"
      ]
     },
     "metadata": {},
     "output_type": "display_data"
    },
    {
     "data": {
      "text/plain": [
       "array([[ 5.74218750e-01],\n",
       "       [ 6.59179688e-01],\n",
       "       [ 5.41992188e-01],\n",
       "       [ 3.12255859e-01],\n",
       "       [-3.18908691e-02],\n",
       "       [ 5.43945312e-01],\n",
       "       [ 5.07324219e-01],\n",
       "       [ 7.92694092e-03],\n",
       "       [ 2.51464844e-01],\n",
       "       [ 1.04882812e+00],\n",
       "       [ 3.00537109e-01],\n",
       "       [ 2.63671875e-01],\n",
       "       [ 7.12402344e-01],\n",
       "       [ 8.55957031e-01],\n",
       "       [ 7.36816406e-01],\n",
       "       [ 4.27490234e-01],\n",
       "       [ 2.95166016e-01],\n",
       "       [-6.78062439e-04],\n",
       "       [ 6.18164062e-01],\n",
       "       [ 3.39843750e-01],\n",
       "       [ 4.55566406e-01],\n",
       "       [ 2.38769531e-01],\n",
       "       [ 9.44213867e-02],\n",
       "       [ 2.19604492e-01],\n",
       "       [ 5.26855469e-01],\n",
       "       [-2.81066895e-02],\n",
       "       [-4.91638184e-02],\n",
       "       [-2.97546387e-02],\n",
       "       [-4.06188965e-02],\n",
       "       [ 5.79589844e-01],\n",
       "       [ 3.13232422e-01],\n",
       "       [ 1.97219849e-03],\n",
       "       [ 8.07617188e-01],\n",
       "       [ 4.92431641e-01],\n",
       "       [ 4.26513672e-01],\n",
       "       [ 2.25585938e-01]])"
      ]
     },
     "execution_count": 29,
     "metadata": {},
     "output_type": "execute_result"
    }
   ],
   "source": [
    "# get predictions on the test set\n",
    "preds = trainer.predict(eval_ds).predictions.astype(float)\n",
    "preds"
   ]
  },
  {
   "cell_type": "code",
   "execution_count": 30,
   "id": "7d22c228-7b60-406b-aa2b-73bf39cbadcb",
   "metadata": {
    "execution": {
     "iopub.execute_input": "2022-09-26T02:53:00.813148Z",
     "iopub.status.busy": "2022-09-26T02:53:00.812712Z",
     "iopub.status.idle": "2022-09-26T02:53:00.821464Z",
     "shell.execute_reply": "2022-09-26T02:53:00.820375Z",
     "shell.execute_reply.started": "2022-09-26T02:53:00.813114Z"
    }
   },
   "outputs": [
    {
     "data": {
      "text/plain": [
       "array([[0.57421875],\n",
       "       [0.65917969],\n",
       "       [0.54199219],\n",
       "       [0.31225586],\n",
       "       [0.        ],\n",
       "       [0.54394531],\n",
       "       [0.50732422],\n",
       "       [0.00792694],\n",
       "       [0.25146484],\n",
       "       [1.        ],\n",
       "       [0.30053711],\n",
       "       [0.26367188],\n",
       "       [0.71240234],\n",
       "       [0.85595703],\n",
       "       [0.73681641],\n",
       "       [0.42749023],\n",
       "       [0.29516602],\n",
       "       [0.        ],\n",
       "       [0.61816406],\n",
       "       [0.33984375],\n",
       "       [0.45556641],\n",
       "       [0.23876953],\n",
       "       [0.09442139],\n",
       "       [0.21960449],\n",
       "       [0.52685547],\n",
       "       [0.        ],\n",
       "       [0.        ],\n",
       "       [0.        ],\n",
       "       [0.        ],\n",
       "       [0.57958984],\n",
       "       [0.31323242],\n",
       "       [0.0019722 ],\n",
       "       [0.80761719],\n",
       "       [0.49243164],\n",
       "       [0.42651367],\n",
       "       [0.22558594]])"
      ]
     },
     "execution_count": 30,
     "metadata": {},
     "output_type": "execute_result"
    }
   ],
   "source": [
    "preds = np.clip(preds, 0, 1)\n",
    "preds"
   ]
  },
  {
   "cell_type": "code",
   "execution_count": 31,
   "id": "d0ee9793-8cdd-43d9-aad4-146dc9f7c2da",
   "metadata": {
    "execution": {
     "iopub.execute_input": "2022-09-26T02:53:29.716550Z",
     "iopub.status.busy": "2022-09-26T02:53:29.715751Z",
     "iopub.status.idle": "2022-09-26T02:53:29.816211Z",
     "shell.execute_reply": "2022-09-26T02:53:29.815344Z",
     "shell.execute_reply.started": "2022-09-26T02:53:29.716522Z"
    }
   },
   "outputs": [
    {
     "data": {
      "application/vnd.jupyter.widget-view+json": {
       "model_id": "e2f25fe24ef34b9e888b67f7e6ca8e38",
       "version_major": 2,
       "version_minor": 0
      },
      "text/plain": [
       "Creating CSV from Arrow format:   0%|          | 0/1 [00:00<?, ?ba/s]"
      ]
     },
     "metadata": {},
     "output_type": "display_data"
    },
    {
     "data": {
      "text/plain": [
       "1032"
      ]
     },
     "execution_count": 31,
     "metadata": {},
     "output_type": "execute_result"
    }
   ],
   "source": [
    "#hide\n",
    "import datasets\n",
    "\n",
    "submission = datasets.Dataset.from_dict({\n",
    "    'id': eval_ds['id'],\n",
    "    'score': preds\n",
    "})\n",
    "\n",
    "submission.to_csv('submission.csv', index=False)"
   ]
  }
 ],
 "metadata": {
  "kernelspec": {
   "display_name": "Python 3.10.6 64-bit",
   "language": "python",
   "name": "python3"
  },
  "language_info": {
   "codemirror_mode": {
    "name": "ipython",
    "version": 3
   },
   "file_extension": ".py",
   "mimetype": "text/x-python",
   "name": "python",
   "nbconvert_exporter": "python",
   "pygments_lexer": "ipython3",
   "version": "3.10.6"
  },
  "vscode": {
   "interpreter": {
    "hash": "aee8b7b246df8f9039afb4144a1f6fd8d2ca17a180786b69acc140d282b71a49"
   }
  }
 },
 "nbformat": 4,
 "nbformat_minor": 5
}
